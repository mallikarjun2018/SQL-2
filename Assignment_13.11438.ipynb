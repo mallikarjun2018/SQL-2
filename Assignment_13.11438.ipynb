{
 "cells": [
  {
   "cell_type": "markdown",
   "metadata": {},
   "source": [
    "Read the following data set:\n",
    "https://archive.ics.uci.edu/ml/machine-learning-databases/adult/adult.data\n",
    "Task:\n",
    "1. Create an sqlalchemy engine using a sample from the data set\n",
    "2. Write two basic update queries\n",
    "3. Write two delete queries\n",
    "4. Write two filter queries\n",
    "5. Write two function queries"
   ]
  },
  {
   "cell_type": "code",
   "execution_count": null,
   "metadata": {},
   "outputs": [],
   "source": [
    "# Import acreate Engine package\n",
    "import sqlalchemy\n",
    "sqlalchemy.__version__ "
   ]
  },
  {
   "cell_type": "code",
   "execution_count": null,
   "metadata": {},
   "outputs": [],
   "source": [
    "from sqlalchemy import create_engine\n",
    "engine = create_engine('sqlite:///:memory:', echo=True)"
   ]
  },
  {
   "cell_type": "code",
   "execution_count": null,
   "metadata": {},
   "outputs": [],
   "source": [
    "from sqlalchemy.ext.declarative import declarative_base\n",
    "Base = declarative_base()"
   ]
  },
  {
   "cell_type": "code",
   "execution_count": null,
   "metadata": {},
   "outputs": [],
   "source": [
    "from sqlalchemy import Table, Column, Integer, String\n",
    "from sqlalchemy import Sequence\n",
    "\n",
    "class Adult(Base):\n",
    "     __tablename__ = 'adults'\n",
    "     id = Column(Integer, Sequence('adult_id_seq'), primary_key=True)\n",
    "     age = Column(Integer)\n",
    "     workclass = Column(String)\n",
    "     fnlwgt  = Column(Integer)\n",
    "     education = Column(String)\n",
    "     educationnum = Column(Integer)\n",
    "     maritalstatus = Column(String)\n",
    "     occupation = Column(String)\n",
    "     relationship       = Column(String)\n",
    "     race              = Column(String)\n",
    "     sex              = Column(String)\n",
    "     capitalgain    = Column(Integer)\n",
    "     capitalloss     = Column(Integer)\n",
    "     hoursperweek  = Column(Integer)\n",
    "     nativecountry   = Column(String)\n",
    "     classname = Column(String)"
   ]
  },
  {
   "cell_type": "code",
   "execution_count": null,
   "metadata": {},
   "outputs": [],
   "source": [
    " Adult.__table__"
   ]
  },
  {
   "cell_type": "code",
   "execution_count": null,
   "metadata": {},
   "outputs": [],
   "source": [
    "Base.metadata.create_all(engine)"
   ]
  },
  {
   "cell_type": "code",
   "execution_count": null,
   "metadata": {},
   "outputs": [],
   "source": [
    "# Read the data from the given URL and see the top 5 records\n",
    "import pandas as pd\n",
    "df = pd.read_csv('https://archive.ics.uci.edu/ml/machine-learning-databases/adult/adult.data')\n",
    "\n",
    "# Rename the columns as per the description.\n",
    "df.columns = ['age', 'workclass', 'fnlwgt', 'education', 'educationnum', 'maritalstatus', 'occupation', 'relationship' ,'race', 'sex' , 'capitalgain', 'capitalloss' , 'hoursperweek', 'nativecountry','classname' ]    \n",
    "df = df.infer_objects()\n",
    "\n",
    "df_new = pd.DataFrame(df)"
   ]
  },
  {
   "cell_type": "code",
   "execution_count": null,
   "metadata": {},
   "outputs": [],
   "source": [
    "df_new.info()\n",
    "df_new.head(5)"
   ]
  },
  {
   "cell_type": "code",
   "execution_count": null,
   "metadata": {},
   "outputs": [],
   "source": [
    "from sqlalchemy.orm import sessionmaker\n",
    "Session = sessionmaker(bind=engine)\n",
    "session = Session()"
   ]
  },
  {
   "cell_type": "code",
   "execution_count": null,
   "metadata": {},
   "outputs": [],
   "source": [
    "adult = Adult( age = 50, workclass = 'Private' , fnlwgt = 83311, education ='Bachelors', educationnum = 13, maritalstatus = 'Married-civ-spouse', occupation ='Exec-managerial' , relationship = 'Husband', race = 'White', sex = 'Male', capitalgain =10000, capitalloss = 0, hoursperweek = 40, nativecountry = 'India', classname = '<=50K')\n",
    "session.add(adult)\n",
    "\n",
    "adult = Adult( age = 40, workclass = 'Self-emp-not-inc', fnlwgt = 215646, education ='Masters', educationnum = 14, maritalstatus = 'Married-civ-spouse', occupation ='Exec-managerial' , relationship = 'Husband', race = 'White', sex = 'Male', capitalgain =10000, capitalloss = 0, hoursperweek = 50, nativecountry = 'USA', classname = '<=50K')\n",
    "session.add(adult)\n",
    "\n",
    "adult = Adult( age = 0, workclass = 'Self-emp-not-inc', fnlwgt = 215646, education ='Masters', educationnum = 14, maritalstatus = 'Married-civ-spouse', occupation ='Exec-managerial' , relationship = 'Husband', race = 'White', sex = 'Male', capitalgain =10000, capitalloss = 0, hoursperweek = 60, nativecountry = 'SWEDAN', classname = '<=50K')\n",
    "session.add(adult)\n",
    "\n",
    "adult = Adult( age = 10, workclass = 'Self-emp-not-inc', fnlwgt = 215646, education ='Masters', educationnum = 14, maritalstatus = 'Married-civ-spouse', occupation ='Exec-managerial' , relationship = 'Husband', race = 'White', sex = 'Male', capitalgain =10000, capitalloss = 0, hoursperweek = 70, nativecountry = 'FRANCE', classname = '<=50K')\n",
    "session.add(adult)"
   ]
  },
  {
   "cell_type": "code",
   "execution_count": null,
   "metadata": {},
   "outputs": [],
   "source": [
    "for instance in session.query(Adult).order_by(Adult.id):\n",
    "     print(instance.age, instance.workclass, instance.nativecountry, instance.education)"
   ]
  },
  {
   "cell_type": "code",
   "execution_count": null,
   "metadata": {},
   "outputs": [],
   "source": [
    "# 2. Write two basic update queries\n",
    "adult_usa = session.query(Adult).filter_by(nativecountry='USA').first() \n",
    "adult_usa.nativecountry ='India'\n",
    "adult_usa.education ='PHD'\n",
    "\n",
    "for instance in session.query(Adult).order_by(Adult.id):\n",
    "    print(instance.age, instance.workclass, instance.nativecountry, instance.education)"
   ]
  },
  {
   "cell_type": "code",
   "execution_count": null,
   "metadata": {},
   "outputs": [],
   "source": [
    "# 3. Write two delete queries\n",
    "adult_delete = session.query(Adult).filter_by(nativecountry='SWEDAN').one()\n",
    "session.delete(adult_delete)\n",
    "session.commit()\n",
    "\n"
   ]
  },
  {
   "cell_type": "code",
   "execution_count": null,
   "metadata": {},
   "outputs": [],
   "source": [
    "adult_delete = session.query(Adult).filter_by(hoursperweek=40).one()\n",
    "session.delete(adult_delete)\n",
    "session.commit()\n"
   ]
  },
  {
   "cell_type": "code",
   "execution_count": null,
   "metadata": {},
   "outputs": [],
   "source": [
    "for instance in session.query(Adult).order_by(Adult.id):\n",
    "    print(instance.age, instance.workclass, instance.nativecountry, instance.education)"
   ]
  },
  {
   "cell_type": "code",
   "execution_count": null,
   "metadata": {},
   "outputs": [],
   "source": [
    "#4. Write two filter queries\n",
    "adult = Adult( age = 10, workclass = 'Self-emp-not-inc', fnlwgt = 215646, education ='Masters', educationnum = 14, maritalstatus = 'Married-civ-spouse', occupation ='Exec-managerial' , relationship = 'Husband', race = 'White', sex = 'Male', capitalgain =10000, capitalloss = 0, hoursperweek = 70, nativecountry = 'FRANCE', classname = '<=50K')\n",
    "session.add(adult)\n",
    "\n",
    "for instance in session.query(Adult).filter_by(nativecountry = 'India'):\n",
    "    print(instance.age, instance.workclass, instance.nativecountry, instance.education)"
   ]
  },
  {
   "cell_type": "code",
   "execution_count": null,
   "metadata": {},
   "outputs": [],
   "source": [
    "#5.Write two function queries\n",
    "from sqlalchemy import func\n",
    "session.query(func.count(Adult.id)).scalar()"
   ]
  },
  {
   "cell_type": "code",
   "execution_count": null,
   "metadata": {},
   "outputs": [],
   "source": [
    "adult = Adult( age =30, workclass = 'Self-emp-not-inc', fnlwgt = 215646, education ='Masters', educationnum = 14, maritalstatus = 'Married-civ-spouse', occupation ='Exec-managerial' , relationship = 'Husband', race = 'White', sex = 'Male', capitalgain =10000, capitalloss = 0, hoursperweek = 70, nativecountry = 'India', classname = '<=50K')\n",
    "session.add(adult)\n",
    "session.query(func.count(Adult.nativecountry), Adult.nativecountry).group_by(Adult.nativecountry).all()"
   ]
  },
  {
   "cell_type": "code",
   "execution_count": null,
   "metadata": {},
   "outputs": [],
   "source": []
  }
 ],
 "metadata": {
  "kernelspec": {
   "display_name": "Python 3",
   "language": "python",
   "name": "python3"
  },
  "language_info": {
   "codemirror_mode": {
    "name": "ipython",
    "version": 3
   },
   "file_extension": ".py",
   "mimetype": "text/x-python",
   "name": "python",
   "nbconvert_exporter": "python",
   "pygments_lexer": "ipython3",
   "version": "3.6.4"
  }
 },
 "nbformat": 4,
 "nbformat_minor": 2
}
